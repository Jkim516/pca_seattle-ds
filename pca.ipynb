{
 "cells": [
  {
   "cell_type": "markdown",
   "metadata": {},
   "source": [
    "# Principal Component Analysis\n",
    "\n",
    "The idea behind PCA is to transform our dataset into something more useful for building models. What we want to do is to build new dimensions (predictors) out of the dimensions we are given in such a way that:\n",
    "\n",
    "(1) each dimension we draw captures as much of the remaining variance among our predictors as possible; and <br/>\n",
    "(2) each dimension we draw is orthogonal to the ones we've already drawn.\n",
    "\n",
    "## Motivation\n",
    "\n",
    "Think back to multiple linear regression for a moment.\n",
    "\n",
    "The fundamental idea is that I can get a better prediction for my dependent variable by considering a *linear combination of my predictors* than I can get by considering any one predictor by itself.\n",
    "\n",
    "$\\rightarrow$ **PCA insight**: If the combinations of predictors work better than the predictors themselves, then let's just treat the combinations as our primary dimensions!\n",
    "\n",
    "But one problem with having lots of predictors is that it raises the chance that some will be nearly *collinear*.\n",
    "\n",
    "$\\rightarrow$ **PCA insight**: Since we're reconstructing our dimensions anyway, let's make sure that the dimensions we construct are mutually orthogonal! <br/>\n",
    "$\\rightarrow$ **PCA insight**: Moreover, since we'll be capturing much of the variance among our predictors in the first few dimensions we construct, we'll be able in effect to *reduce  the dimensionality* of our problem. Thus PCA is a fundamental tool in *dimensionality reduction*."
   ]
  },
  {
   "cell_type": "code",
   "execution_count": 4,
   "metadata": {},
   "outputs": [
    {
     "name": "stdout",
     "output_type": "stream",
     "text": [
      "/Users/flatiron/Flatiron/10week/pca_seattle-ds\r\n"
     ]
    }
   ],
   "source": [
    "!pwd\n"
   ]
  },
  {
   "cell_type": "code",
   "execution_count": 6,
   "metadata": {},
   "outputs": [],
   "source": [
    "import pandas as pd\n",
    "import numpy as np\n",
    "from sklearn.preprocessing import StandardScaler\n",
    "from sklearn.model_selection import train_test_split\n",
    "from sklearn.linear_model import LinearRegression\n",
    "from sklearn.decomposition import PCA"
   ]
  },
  {
   "cell_type": "code",
   "execution_count": 5,
   "metadata": {
    "scrolled": true
   },
   "outputs": [
    {
     "name": "stdout",
     "output_type": "stream",
     "text": [
      "<class 'pandas.core.frame.DataFrame'>\n",
      "RangeIndex: 261 entries, 0 to 260\n",
      "Data columns (total 8 columns):\n",
      "mpg             261 non-null float64\n",
      " cylinders      261 non-null int64\n",
      " cubicinches    261 non-null object\n",
      " hp             261 non-null int64\n",
      " weightlbs      261 non-null object\n",
      " time-to-60     261 non-null int64\n",
      " year           261 non-null int64\n",
      " brand          261 non-null object\n",
      "dtypes: float64(1), int64(4), object(3)\n",
      "memory usage: 16.4+ KB\n"
     ]
    }
   ],
   "source": [
    "cars = pd.read_csv('/Users/flatiron/Flatiron/10week/tree_ensembles_seattle-ds/cars.csv')\n",
    "cars.info()"
   ]
  },
  {
   "cell_type": "code",
   "execution_count": 7,
   "metadata": {},
   "outputs": [
    {
     "data": {
      "text/html": [
       "<div>\n",
       "<style scoped>\n",
       "    .dataframe tbody tr th:only-of-type {\n",
       "        vertical-align: middle;\n",
       "    }\n",
       "\n",
       "    .dataframe tbody tr th {\n",
       "        vertical-align: top;\n",
       "    }\n",
       "\n",
       "    .dataframe thead th {\n",
       "        text-align: right;\n",
       "    }\n",
       "</style>\n",
       "<table border=\"1\" class=\"dataframe\">\n",
       "  <thead>\n",
       "    <tr style=\"text-align: right;\">\n",
       "      <th></th>\n",
       "      <th>mpg</th>\n",
       "      <th>cylinders</th>\n",
       "      <th>cubicinches</th>\n",
       "      <th>hp</th>\n",
       "      <th>weightlbs</th>\n",
       "      <th>time-to-60</th>\n",
       "      <th>year</th>\n",
       "      <th>brand</th>\n",
       "    </tr>\n",
       "  </thead>\n",
       "  <tbody>\n",
       "    <tr>\n",
       "      <th>0</th>\n",
       "      <td>14.0</td>\n",
       "      <td>8</td>\n",
       "      <td>350</td>\n",
       "      <td>165</td>\n",
       "      <td>4209</td>\n",
       "      <td>12</td>\n",
       "      <td>1972</td>\n",
       "      <td>US.</td>\n",
       "    </tr>\n",
       "    <tr>\n",
       "      <th>1</th>\n",
       "      <td>31.9</td>\n",
       "      <td>4</td>\n",
       "      <td>89</td>\n",
       "      <td>71</td>\n",
       "      <td>1925</td>\n",
       "      <td>14</td>\n",
       "      <td>1980</td>\n",
       "      <td>Europe.</td>\n",
       "    </tr>\n",
       "    <tr>\n",
       "      <th>2</th>\n",
       "      <td>17.0</td>\n",
       "      <td>8</td>\n",
       "      <td>302</td>\n",
       "      <td>140</td>\n",
       "      <td>3449</td>\n",
       "      <td>11</td>\n",
       "      <td>1971</td>\n",
       "      <td>US.</td>\n",
       "    </tr>\n",
       "    <tr>\n",
       "      <th>3</th>\n",
       "      <td>15.0</td>\n",
       "      <td>8</td>\n",
       "      <td>400</td>\n",
       "      <td>150</td>\n",
       "      <td>3761</td>\n",
       "      <td>10</td>\n",
       "      <td>1971</td>\n",
       "      <td>US.</td>\n",
       "    </tr>\n",
       "    <tr>\n",
       "      <th>4</th>\n",
       "      <td>30.5</td>\n",
       "      <td>4</td>\n",
       "      <td>98</td>\n",
       "      <td>63</td>\n",
       "      <td>2051</td>\n",
       "      <td>17</td>\n",
       "      <td>1978</td>\n",
       "      <td>US.</td>\n",
       "    </tr>\n",
       "  </tbody>\n",
       "</table>\n",
       "</div>"
      ],
      "text/plain": [
       "    mpg   cylinders  cubicinches   hp  weightlbs   time-to-60   year     brand\n",
       "0  14.0           8          350  165       4209           12   1972       US.\n",
       "1  31.9           4           89   71       1925           14   1980   Europe.\n",
       "2  17.0           8          302  140       3449           11   1971       US.\n",
       "3  15.0           8          400  150       3761           10   1971       US.\n",
       "4  30.5           4           98   63       2051           17   1978       US."
      ]
     },
     "execution_count": 7,
     "metadata": {},
     "output_type": "execute_result"
    }
   ],
   "source": [
    "cars.head()"
   ]
  },
  {
   "cell_type": "code",
   "execution_count": 8,
   "metadata": {},
   "outputs": [],
   "source": [
    "cars[' cubicinches'].replace(' ', np.nan, inplace=True)\n",
    "cars[' cubicinches'] = cars[' cubicinches'].map(float)\n",
    "cars[' cubicinches'].fillna(cars[' cubicinches'].mean(skipna=True), inplace=True)"
   ]
  },
  {
   "cell_type": "code",
   "execution_count": 9,
   "metadata": {},
   "outputs": [],
   "source": [
    "cars[' weightlbs'].replace(' ', np.nan, inplace=True)\n",
    "cars[' weightlbs'] = cars[' weightlbs'].map(float)\n",
    "cars[' weightlbs'].fillna(cars[' weightlbs'].mean(), inplace=True)"
   ]
  },
  {
   "cell_type": "code",
   "execution_count": 10,
   "metadata": {},
   "outputs": [],
   "source": [
    "cars[' cylinders'] = cars[' cylinders'].map(float)\n",
    "cars[' hp'] = cars[' hp'].map(float)\n",
    "cars[' time-to-60'] = cars[' time-to-60'].map(float)\n",
    "cars[' year'] = cars[' year'].map(float)"
   ]
  },
  {
   "cell_type": "code",
   "execution_count": 11,
   "metadata": {},
   "outputs": [],
   "source": [
    "# Let's define our predictors and target\n",
    "\n",
    "X = cars.drop([' brand', 'mpg'], axis=1)\n",
    "y = cars['mpg']"
   ]
  },
  {
   "cell_type": "code",
   "execution_count": 12,
   "metadata": {},
   "outputs": [],
   "source": [
    "# Splitting\n",
    "\n",
    "X_train, X_test, y_train, y_test = train_test_split(X, y, random_state=20)"
   ]
  },
  {
   "cell_type": "code",
   "execution_count": 13,
   "metadata": {
    "scrolled": true
   },
   "outputs": [],
   "source": [
    "# Scaling\n",
    "\n",
    "ss = StandardScaler().fit(X_train)"
   ]
  },
  {
   "cell_type": "code",
   "execution_count": 15,
   "metadata": {},
   "outputs": [],
   "source": [
    "# Scale-transforming\n",
    "\n",
    "X_tr_sc = ss.transform(X_train)\n",
    "X_te_sc = ss.transform(X_test)"
   ]
  },
  {
   "cell_type": "code",
   "execution_count": 16,
   "metadata": {},
   "outputs": [
    {
     "data": {
      "text/plain": [
       "0.8070327261727465"
      ]
     },
     "execution_count": 16,
     "metadata": {},
     "output_type": "execute_result"
    }
   ],
   "source": [
    "# Let's construct a linear regression\n",
    "\n",
    "lr = LinearRegression().fit(X_tr_sc, y_train)\n",
    "# Score on train\n",
    "lr.score(X_tr_sc, y_train)"
   ]
  },
  {
   "cell_type": "code",
   "execution_count": 17,
   "metadata": {},
   "outputs": [
    {
     "data": {
      "text/plain": [
       "0.7503980444122421"
      ]
     },
     "execution_count": 17,
     "metadata": {},
     "output_type": "execute_result"
    }
   ],
   "source": [
    "# Score on test\n",
    "lr.score(X_te_sc, y_test)"
   ]
  },
  {
   "cell_type": "code",
   "execution_count": 18,
   "metadata": {},
   "outputs": [
    {
     "data": {
      "text/plain": [
       "array([-1.40363031,  0.66939833, -0.48170045, -4.6510991 , -0.17725631,\n",
       "        2.42537141])"
      ]
     },
     "execution_count": 18,
     "metadata": {},
     "output_type": "execute_result"
    }
   ],
   "source": [
    "# Get the coefficients of the best-fit hyperplane\n",
    "\n",
    "lr.coef_"
   ]
  },
  {
   "cell_type": "markdown",
   "metadata": {},
   "source": [
    "Thus, our best-fit hyperplane is given by:\n",
    "\n",
    "$-1.404\\times cyl + 0.669\\times in^3 - 0.482\\times hp - 4.651\\times lbs. -  0.177\\times time_{60} + 2.425\\times yr$"
   ]
  },
  {
   "cell_type": "markdown",
   "metadata": {},
   "source": [
    "## Eigenvalues and Eigenvectors\n",
    "\n",
    "The key idea is to diagonalize (i.e. find the eigendecomposition of) the covariance matrix. The decomposition will produce a set of orthogonal vectors that explain as much of the remaining variance as possible.\n",
    "\n",
    "Let's say a word about eigenvalues and eigenvectors. It turns out that eigenvalues and -vectors have a dizzying number of applications. But the basic idea is that, if we can split a bunch of vectors (i.e. a matrix) into a set of mutually orthogonal vectors, then we can isolate the force of the bunch into discrete bits, each of which by itself acts like a simple linear transformation.\n",
    "\n",
    "That's why the definition of an eigenvector is as it is: $\\vec{x}$ is an eigenvector of the matrix $A$ if $A\\vec{x} = \\lambda\\vec{x}$, for some scalar $\\lambda$. That is, the vector is oriented in just such a direction that multiplying the matrix by it serves only to lengthen or shorten it.\n",
    "\n",
    "Let's do a simple example.\n",
    "\n",
    "Suppose we have the matrix\n",
    "$A =\n",
    "\\begin{bmatrix}\n",
    "1 & 0.6 \\\\\n",
    "0.6 & 1 \\\\\n",
    "\\end{bmatrix}\n",
    "$\n",
    "\n",
    "Let's calculate the eigendecomposition of this matrix.\n",
    "\n",
    "\n",
    "## PCA by Hand\n",
    "[Here's](https://www.youtube.com/watch?v=_UVHneBUBW0) a video introduction to PCA."
   ]
  },
  {
   "cell_type": "code",
   "execution_count": 30,
   "metadata": {},
   "outputs": [],
   "source": [
    "A = [[1, .6], [.6, 1]]\n",
    "\n",
    "values, vectors = np.linalg.eig(A)"
   ]
  },
  {
   "cell_type": "code",
   "execution_count": 31,
   "metadata": {},
   "outputs": [
    {
     "data": {
      "text/plain": [
       "0.7071067811865476"
      ]
     },
     "execution_count": 31,
     "metadata": {},
     "output_type": "execute_result"
    }
   ],
   "source": [
    "np.sqrt(2) / 2"
   ]
  },
  {
   "cell_type": "code",
   "execution_count": 35,
   "metadata": {},
   "outputs": [
    {
     "data": {
      "text/plain": [
       "array([[1. , 0.6],\n",
       "       [0.6, 1. ]])"
      ]
     },
     "execution_count": 35,
     "metadata": {},
     "output_type": "execute_result"
    }
   ],
   "source": [
    "vectors.dot(np.diag(values)).dot(vectors.T)"
   ]
  },
  {
   "cell_type": "markdown",
   "metadata": {},
   "source": [
    "## PCA by Hand\n",
    "[Here's](https://www.youtube.com/watch?v=_UVHneBUBW0) a video introduction to PCA.\n",
    "\n",
    "N.B.: What follows is indebted to http://sebastianraschka.com/Articles/2015_pca_in_3_steps.html#pca-vs-lda"
   ]
  },
  {
   "cell_type": "code",
   "execution_count": null,
   "metadata": {},
   "outputs": [],
   "source": []
  },
  {
   "cell_type": "code",
   "execution_count": 37,
   "metadata": {},
   "outputs": [
    {
     "data": {
      "text/plain": [
       "array([[ 1.00515464,  0.95058762,  0.84015601,  0.88858775, -0.58673216,\n",
       "        -0.28635987],\n",
       "       [ 0.95058762,  1.00515464,  0.90808436,  0.91790317, -0.6288947 ,\n",
       "        -0.319139  ],\n",
       "       [ 0.84015601,  0.90808436,  1.00515464,  0.8518692 , -0.74580856,\n",
       "        -0.34779071],\n",
       "       [ 0.88858775,  0.91790317,  0.8518692 ,  1.00515464, -0.47813701,\n",
       "        -0.23383302],\n",
       "       [-0.58673216, -0.6288947 , -0.74580856, -0.47813701,  1.00515464,\n",
       "         0.2754432 ],\n",
       "       [-0.28635987, -0.319139  , -0.34779071, -0.23383302,  0.2754432 ,\n",
       "         1.00515464]])"
      ]
     },
     "execution_count": 37,
     "metadata": {},
     "output_type": "execute_result"
    }
   ],
   "source": [
    "# We'll start by producing the covariance matrix for the columns of X.\n",
    "\n",
    "cov_mat = np.cov(X_tr_sc.T)\n",
    "cov_mat"
   ]
  },
  {
   "cell_type": "code",
   "execution_count": 10,
   "metadata": {
    "scrolled": true
   },
   "outputs": [],
   "source": [
    "# np.linalg.eig(X) returns a double of NumPy arrays, the first containing\n",
    "# the eigenvalues of X and the second containing the eigenvectors of X.\n",
    "\n"
   ]
  },
  {
   "cell_type": "code",
   "execution_count": 38,
   "metadata": {},
   "outputs": [],
   "source": [
    "# Let's assign the results of eig(cov_mat) to a double of variables.\n",
    "\n",
    "eigvals, eigvecs = np.linalg.eig(cov_mat)"
   ]
  },
  {
   "cell_type": "code",
   "execution_count": 39,
   "metadata": {},
   "outputs": [],
   "source": [
    "# We'll now pair up each eigenvalue with its corresponding eigenvector.\n",
    "\n",
    "eigpairs = [(eigvals[i], eigvecs[:, i]) for i in range(len(eigvals))]"
   ]
  },
  {
   "cell_type": "code",
   "execution_count": 42,
   "metadata": {},
   "outputs": [
    {
     "data": {
      "text/plain": [
       "array([ 0.45429602,  0.4698276 ,  0.46220986,  0.4401634 , -0.3567266 ,\n",
       "       -0.19555438])"
      ]
     },
     "execution_count": 42,
     "metadata": {},
     "output_type": "execute_result"
    }
   ],
   "source": [
    "# Let's look at the first element of eigpairs.\n",
    "\n",
    "eigpairs[0][1]"
   ]
  },
  {
   "cell_type": "code",
   "execution_count": 49,
   "metadata": {},
   "outputs": [
    {
     "data": {
      "text/plain": [
       "array([[ 0.45429602,  0.14296736,  0.20369518],\n",
       "       [ 0.4698276 ,  0.1100147 ,  0.15327665],\n",
       "       [ 0.46220986,  0.02283565, -0.12912709],\n",
       "       [ 0.4401634 ,  0.21745139,  0.36117845],\n",
       "       [-0.3567266 ,  0.10215066,  0.86003011],\n",
       "       [-0.19555438,  0.95352806, -0.21963397]])"
      ]
     },
     "execution_count": 49,
     "metadata": {},
     "output_type": "execute_result"
    }
   ],
   "source": [
    "# The second element of each element in eigpairs is\n",
    "# an eigenvector of the covariance matrix.\n",
    "\n",
    "# pcabh = np.hstack((eigpairs[0][1].reshape(6, 1)),\n",
    "#                   (eigpairs[1][1].reshape(6, 1)),\n",
    "#                   (eigpairs[2][1].reshape(6, 1)))\n",
    "                   \n",
    "# pcabh\n",
    "\n",
    "pcabh = np.hstack((eigpairs[0][1].reshape(6,1),\n",
    "                 eigpairs[1][1].reshape(6,1),\n",
    "                 eigpairs[2][1].reshape(6,1)))\n",
    "pcabh"
   ]
  },
  {
   "cell_type": "code",
   "execution_count": 15,
   "metadata": {},
   "outputs": [],
   "source": [
    "# We want to isolate the eigenvectors and create a matrix\n",
    "# with a column for each. We'll use just three of these,\n",
    "# corresponding to taking the first three principal components.\n",
    "\n"
   ]
  },
  {
   "cell_type": "code",
   "execution_count": 50,
   "metadata": {},
   "outputs": [
    {
     "data": {
      "text/plain": [
       "array([[-1.86132385e+00,  8.37137048e-01,  3.67228067e-02],\n",
       "       [-2.60128417e+00, -1.06643129e+00,  1.13924184e+00],\n",
       "       [-1.39835262e+00, -1.75623367e+00, -5.63609812e-01],\n",
       "       [ 4.19227521e+00, -1.12490334e+00, -1.00233721e+00],\n",
       "       [ 2.81651260e+00, -1.35817821e-01,  2.38453300e-01],\n",
       "       [ 4.89697606e+00,  1.74377070e-01, -7.84528498e-02],\n",
       "       [ 2.00106356e+00,  9.73269795e-01, -3.31438482e-01],\n",
       "       [-4.42589499e-01,  7.27273896e-02,  1.62581169e+00],\n",
       "       [ 3.41673803e+00, -1.68233914e-02,  1.65761929e-01],\n",
       "       [-1.79099674e+00,  6.06474746e-01, -1.05215215e+00],\n",
       "       [-3.40309581e+00,  1.45540871e+00,  1.83642928e+00],\n",
       "       [ 2.81206121e+00,  6.81182673e-01,  9.61223450e-02],\n",
       "       [ 2.27947348e+00,  5.60955167e-01,  1.49664514e-01],\n",
       "       [-1.24312995e+00, -4.42835689e-01,  8.62990838e-02],\n",
       "       [ 2.57181889e+00, -5.55239756e-02,  8.31654946e-01],\n",
       "       [-1.87619262e+00, -9.85030157e-01, -4.77072960e-01],\n",
       "       [-5.76890593e-01, -5.40551519e-01, -9.11045532e-01],\n",
       "       [ 2.43185697e+00, -1.15156571e+00, -1.40524105e-01],\n",
       "       [-2.58318606e+00,  8.04083633e-01, -6.62370868e-01],\n",
       "       [-1.22897677e+00, -9.38432699e-01, -9.14758548e-01],\n",
       "       [-1.55357698e+00,  1.06764708e+00,  8.20684656e-01],\n",
       "       [ 2.63133776e+00,  6.39666526e-01,  4.45170885e-02],\n",
       "       [ 2.33099279e+00,  1.44564277e+00,  1.73130821e-01],\n",
       "       [ 3.89792901e-03,  1.63167825e+00, -5.55195393e-01],\n",
       "       [ 2.16985899e+00,  1.03334526e+00, -2.40193843e-01],\n",
       "       [-1.50260738e+00,  2.95986525e-01, -1.52666935e+00],\n",
       "       [-1.87107138e+00,  6.52976850e-01, -7.47043349e-01],\n",
       "       [ 3.54105317e+00,  9.37901822e-01, -5.68753648e-01],\n",
       "       [ 3.37031883e-01,  7.21509221e-01,  6.09319266e-02],\n",
       "       [-1.37707636e+00, -2.96509195e-01, -3.99929072e-01],\n",
       "       [-2.27266427e-01,  1.05896143e+00,  7.62419051e-01],\n",
       "       [ 1.40363409e-01, -5.76881617e-01,  7.52916127e-01],\n",
       "       [ 3.71474893e+00, -2.82385889e-01,  1.11090437e-01],\n",
       "       [-1.63022541e-01,  2.34676478e-01,  8.63367995e-01],\n",
       "       [-2.24764761e+00,  1.10052824e+00, -9.36481935e-01],\n",
       "       [-2.27197580e+00, -8.69169132e-01,  4.46785271e-01],\n",
       "       [ 2.91935916e-01, -4.68057133e-01,  1.11982514e+00],\n",
       "       [-1.34653150e+00, -1.34474239e+00,  5.08328853e-02],\n",
       "       [ 1.83962009e-01,  3.05290230e-01,  2.09571913e+00],\n",
       "       [ 3.43827138e+00, -7.07846778e-03,  3.07243637e-01],\n",
       "       [-1.59604601e+00, -8.54709497e-01, -9.62540491e-02],\n",
       "       [-1.52927033e+00,  1.03332644e+00, -6.40616275e-01],\n",
       "       [-7.21777988e-01,  4.35858697e-01, -2.60491835e-01],\n",
       "       [ 2.40506308e+00,  1.21511654e-01,  4.45636751e-01],\n",
       "       [ 3.45475242e+00,  1.92192890e-01,  9.84697956e-01],\n",
       "       [-2.27267028e+00,  1.01089106e+00,  2.47733617e+00],\n",
       "       [ 2.57743870e+00, -3.22163267e-01, -3.15029592e-01],\n",
       "       [-1.85936214e+00, -4.21210856e-02, -1.34385230e+00],\n",
       "       [ 6.51599306e-02,  6.66587826e-01,  1.28852610e+00],\n",
       "       [ 4.47942884e+00, -8.98921789e-02, -7.58892357e-01],\n",
       "       [ 4.60240798e+00,  9.69089850e-02, -1.61564406e-01],\n",
       "       [-1.99973875e+00,  1.41416547e+00,  2.34416359e-01],\n",
       "       [-2.15204717e+00, -1.67678538e+00,  5.75719219e-01],\n",
       "       [-2.66136442e+00, -1.13688176e+00,  2.18674431e+00],\n",
       "       [ 4.90018241e+00, -7.75180025e-01, -4.21460141e-01],\n",
       "       [ 3.64763119e+00,  5.65968529e-01,  7.08400802e-02],\n",
       "       [-1.64586078e+00, -3.18934211e-01, -1.83043911e-01],\n",
       "       [-2.15333497e+00, -1.78995825e+00,  1.21429456e-01],\n",
       "       [-1.87675758e+00,  1.11995125e+00,  2.05921709e-02],\n",
       "       [-1.96401590e+00,  7.21380370e-01, -3.75426085e-01],\n",
       "       [-2.02569902e+00,  1.11951072e+00, -1.12810575e+00],\n",
       "       [ 2.61741752e+00, -1.20029846e+00, -4.97418300e-01],\n",
       "       [ 5.52793247e-01, -1.13404952e+00,  3.35750063e-01],\n",
       "       [ 4.92282352e+00, -8.32485185e-01, -7.31531043e-01],\n",
       "       [ 2.14470675e-01,  1.55681760e+00,  5.49288481e-02],\n",
       "       [ 3.12146160e+00, -1.03826362e+00, -1.09184397e-01],\n",
       "       [-1.06859730e+00,  8.09390047e-02, -2.83392905e-01],\n",
       "       [-2.01173469e+00, -8.52575210e-01,  1.25409740e+00],\n",
       "       [-1.44315267e+00, -6.21772499e-01, -1.81880809e+00],\n",
       "       [-1.16221813e+00, -1.38808067e-01, -1.17189940e+00],\n",
       "       [ 1.70829123e-01, -1.50078991e+00,  4.29221432e-01],\n",
       "       [-8.23515194e-01, -1.10275439e+00, -7.63427426e-01],\n",
       "       [ 5.28386987e-02, -6.91722881e-01,  3.11558799e-01],\n",
       "       [-1.31139016e+00, -1.04484822e+00,  1.25300287e+00],\n",
       "       [-4.83156165e-01,  1.45473669e+00,  2.20942992e-01],\n",
       "       [-1.52874205e+00, -9.61805341e-01, -7.10554743e-01],\n",
       "       [-1.13383519e+00, -1.98231712e+00, -5.01307657e-01],\n",
       "       [-1.55776152e+00,  1.44602556e+00, -2.64762284e-03],\n",
       "       [-2.42696226e+00,  7.73671197e-01, -9.57606091e-01],\n",
       "       [ 1.95569885e+00,  5.06958608e-02, -5.88187541e-01],\n",
       "       [ 2.42404487e+00,  3.21125367e-01,  1.24895547e+00],\n",
       "       [ 1.00646507e-01,  1.25636867e+00, -1.15931852e+00],\n",
       "       [-1.16746144e+00, -1.72327735e+00,  6.37173024e-01],\n",
       "       [-1.70969639e+00, -1.49950681e-01, -6.31615316e-01],\n",
       "       [-1.37115805e+00, -9.07217937e-01, -6.34241766e-01],\n",
       "       [ 2.30002817e+00,  8.01622051e-01, -1.52208664e-01],\n",
       "       [-2.36986735e+00, -6.95632167e-01,  4.00762935e-02],\n",
       "       [ 3.44937144e+00,  3.79988506e-02,  4.20809078e-01],\n",
       "       [-1.09584946e+00, -3.14012644e-01, -8.51816708e-01],\n",
       "       [-3.87616943e-02,  1.21239229e+00, -1.20887071e+00],\n",
       "       [-1.27773614e-01,  5.66175376e-02,  4.21318690e-02],\n",
       "       [-5.67858862e-01,  1.27912900e+00,  8.75897267e-01],\n",
       "       [ 1.01051410e+00,  9.64922482e-01,  4.94060853e-01],\n",
       "       [ 5.17081702e-01, -1.05657376e+00,  7.00318318e-01],\n",
       "       [ 3.33783809e+00,  7.04209910e-01, -2.17272278e-01],\n",
       "       [-1.93130665e+00,  1.31608172e+00, -1.99479992e-01],\n",
       "       [ 3.46346113e+00, -1.21290601e+00, -1.31932806e+00],\n",
       "       [-9.67340571e-01,  2.09736326e-01, -1.05559082e+00],\n",
       "       [-1.79680342e+00, -1.35580560e+00,  3.45930571e-01],\n",
       "       [-2.33755121e+00,  8.93657002e-01, -5.32915510e-01],\n",
       "       [ 2.35467748e+00,  1.38261683e+00, -1.50860744e-01],\n",
       "       [ 5.95169380e-01,  2.26926939e-01,  7.57403149e-02],\n",
       "       [-1.72089102e+00, -2.23971520e-01, -9.69450321e-01],\n",
       "       [-9.08488213e-01, -1.89257076e+00, -3.63276935e-01],\n",
       "       [-2.24348025e+00, -1.57586684e+00,  1.17531670e+00],\n",
       "       [-2.50267586e+00, -1.87373938e+00,  1.26838870e+00],\n",
       "       [ 5.88310672e-01, -1.34742074e+00, -5.35203949e-01],\n",
       "       [-1.62005690e+00,  1.17369649e-01, -8.82279056e-01],\n",
       "       [-1.02415511e+00,  3.90997875e-01, -9.43528745e-02],\n",
       "       [ 2.80799098e-01, -6.43302552e-01,  3.61924919e-01],\n",
       "       [-1.99436600e+00,  6.31710593e-01, -7.49488253e-01],\n",
       "       [-2.34921413e+00, -1.04371301e+00, -2.75674662e-01],\n",
       "       [-8.55537229e-01, -1.89873181e+00, -3.95878214e-01],\n",
       "       [ 2.61049026e+00, -1.16185798e+00, -2.39675680e-01],\n",
       "       [-1.85618966e+00,  3.32581159e-01, -9.86129980e-01],\n",
       "       [ 2.23036784e+00,  1.15835622e+00,  2.03328577e-01],\n",
       "       [-7.48834328e-01, -4.43714411e-01, -4.43870416e-01],\n",
       "       [ 1.64965402e-01,  1.88967761e-01,  1.49455223e+00],\n",
       "       [-1.75446837e+00, -9.24700589e-01,  1.01921260e+00],\n",
       "       [ 2.00634154e+00,  9.41874731e-01, -4.09272571e-01],\n",
       "       [-2.29839575e+00,  8.11102382e-01, -9.13383663e-01],\n",
       "       [-2.47959577e+00,  7.17639197e-01,  1.25178388e-01],\n",
       "       [-9.62674661e-01,  1.05600625e+00,  1.31653008e+00],\n",
       "       [-2.89753678e-01,  2.34279446e-01, -3.40349974e-01],\n",
       "       [ 2.93112539e+00,  5.70171776e-01,  6.54215813e-01],\n",
       "       [-2.07358476e+00, -1.32645341e-01, -2.84107360e-01],\n",
       "       [-1.06909508e+00,  1.28434844e+00, -1.23766467e+00],\n",
       "       [-4.45001289e-01,  1.77684188e-01,  8.14790969e-01],\n",
       "       [-5.66150797e-01,  9.52418827e-01,  6.14712382e-01],\n",
       "       [-1.75045626e-02, -3.46015038e-01,  6.31632053e-01],\n",
       "       [-1.56908024e+00, -3.88137561e-01,  6.69638670e-01],\n",
       "       [ 2.09052997e+00,  9.68244225e-01,  6.59296667e-01],\n",
       "       [-1.85103423e+00, -2.94488371e-01,  1.06675416e-01],\n",
       "       [ 6.84986257e-01,  3.40927556e-01,  4.80254853e-01],\n",
       "       [ 3.37137715e-01, -1.47806264e+00,  2.60094727e-01],\n",
       "       [ 6.68943960e-01, -1.04272426e+00,  6.73593536e-01],\n",
       "       [ 1.43491030e-01,  1.05301896e+00,  4.35706945e-01],\n",
       "       [-2.59447282e+00,  6.81822437e-01,  8.53096358e-02],\n",
       "       [-1.31644442e+00, -1.13272357e+00, -3.32898692e-01],\n",
       "       [-1.18894512e+00,  5.81970565e-01, -4.39523173e-01],\n",
       "       [ 2.76471819e+00,  5.99499343e-01, -2.46151718e-01],\n",
       "       [-1.62676666e+00,  1.29158915e+00, -6.99497128e-01],\n",
       "       [-2.02498273e+00,  1.51217011e-01, -3.23361204e-01],\n",
       "       [ 1.75685089e+00,  1.37066521e+00,  3.46842103e-01],\n",
       "       [-9.14514665e-01,  3.38913238e-01, -4.48574951e-01],\n",
       "       [-2.10631947e+00, -1.69701718e-01, -3.71094306e-01],\n",
       "       [ 2.49916688e+00,  5.74370910e-01, -6.39364354e-02],\n",
       "       [-1.94665252e+00,  9.98867282e-01, -4.17255895e-01],\n",
       "       [ 6.53111526e-02,  2.92389086e-01,  9.31365429e-01],\n",
       "       [ 2.61632994e+00, -4.14006936e-01, -7.07307495e-01],\n",
       "       [ 5.65765182e-01,  5.67370449e-01,  3.66349598e-01],\n",
       "       [-1.10530160e+00, -3.77464709e-01,  1.79650657e-01],\n",
       "       [ 2.78621253e-01, -5.66780179e-01,  7.06112071e-01],\n",
       "       [ 3.44825436e+00, -1.04751280e+00, -5.47887013e-01],\n",
       "       [-1.13339171e+00, -1.37019855e+00, -2.62157169e-01],\n",
       "       [-3.22853638e-01,  1.76397863e+00,  2.39967586e-01],\n",
       "       [-9.30907094e-01, -1.71010923e+00, -7.73661177e-01],\n",
       "       [-2.11262817e+00,  1.22770150e+00, -5.06469134e-01],\n",
       "       [-8.37366179e-01, -1.33723795e+00, -4.53505455e-01],\n",
       "       [-1.70201608e+00, -1.02651677e+00,  5.59721391e-01],\n",
       "       [ 2.75688057e+00,  2.26123854e-01,  5.73558996e-01],\n",
       "       [-3.52859366e-01,  6.78377019e-01,  4.13926055e-01],\n",
       "       [-9.42217210e-01, -5.17125814e-01, -5.51723986e-01],\n",
       "       [ 4.03200953e+00, -1.04677067e+00, -9.45552778e-01],\n",
       "       [-1.28838823e+00, -1.05552121e+00,  1.18928712e-02],\n",
       "       [ 2.84731970e+00, -6.80338134e-01,  3.02131031e-01],\n",
       "       [ 2.58213130e-02,  1.43646701e+00,  2.28544442e+00],\n",
       "       [-1.35973825e+00,  8.78053740e-01, -2.01874596e-01],\n",
       "       [-2.30111603e+00, -4.71444480e-01, -3.13458757e-01],\n",
       "       [ 5.82458514e-01,  3.04245922e-02,  4.75259660e-01],\n",
       "       [ 1.55963391e-01,  6.34595192e-01,  9.98081763e-01],\n",
       "       [-1.64877776e+00, -6.48616154e-01, -4.46416280e-01],\n",
       "       [-1.70872910e+00,  1.09434264e+00,  9.48655599e-01],\n",
       "       [ 3.11850718e+00, -5.40356387e-02,  3.20143430e-01],\n",
       "       [ 3.98222701e+00, -6.89065443e-01,  7.32640756e-01],\n",
       "       [-1.37896431e+00,  1.37703415e+00, -5.69410440e-01],\n",
       "       [ 4.78195569e+00, -8.60649330e-01, -7.53745402e-01],\n",
       "       [ 3.72344523e+00,  1.43152172e-01,  5.96910820e-01],\n",
       "       [-1.38251423e+00,  1.08761179e+00, -5.54844772e-01],\n",
       "       [ 1.40880164e+00,  1.26747201e+00,  2.06598934e-01],\n",
       "       [-1.03304005e+00,  1.02354909e+00, -1.16754388e+00],\n",
       "       [-1.71037234e+00, -3.93704372e-01, -5.13035799e-01],\n",
       "       [ 3.49840997e+00, -1.10533739e+00, -7.22142880e-01],\n",
       "       [-2.47404164e+00,  4.35042074e-01,  1.45813613e-01],\n",
       "       [ 1.38600973e+00,  7.13827486e-01, -8.10763998e-01],\n",
       "       [-5.33763087e-01, -1.06443825e+00, -7.80444766e-01],\n",
       "       [-2.24087623e+00, -1.71655776e+00,  4.96079577e-01],\n",
       "       [ 5.68408813e-01, -1.07189837e+00,  6.30080141e-01],\n",
       "       [-2.11125271e+00, -1.59199956e+00,  9.15932673e-01],\n",
       "       [ 2.33333737e-01,  1.99180825e-01,  1.47668936e+00],\n",
       "       [-2.14448115e+00,  8.68380286e-01, -8.25687069e-01],\n",
       "       [ 1.53916704e-02, -2.14115411e-01, -1.11946437e-01],\n",
       "       [-1.92366615e+00,  1.41497444e+00,  2.00661019e-01],\n",
       "       [ 2.99882889e-01,  5.93283463e-01, -1.74963841e+00],\n",
       "       [ 4.11028294e-01,  3.43080942e-01,  7.00796553e-01]])"
      ]
     },
     "execution_count": 50,
     "metadata": {},
     "output_type": "execute_result"
    }
   ],
   "source": [
    "# Now we simply want the dot-product of\n",
    "# X (scaled) with this matrix of the eigenvectors\n",
    "# of the covariance matrix of X.\n",
    "\n",
    "X_tr_sc.dot(pcabh)"
   ]
  },
  {
   "cell_type": "code",
   "execution_count": 51,
   "metadata": {},
   "outputs": [
    {
     "data": {
      "text/plain": [
       "array([[-1.86132385e+00, -8.37137048e-01,  3.67228067e-02],\n",
       "       [-2.60128417e+00,  1.06643129e+00,  1.13924184e+00],\n",
       "       [-1.39835262e+00,  1.75623367e+00, -5.63609812e-01],\n",
       "       [ 4.19227521e+00,  1.12490334e+00, -1.00233721e+00],\n",
       "       [ 2.81651260e+00,  1.35817821e-01,  2.38453300e-01],\n",
       "       [ 4.89697606e+00, -1.74377070e-01, -7.84528498e-02],\n",
       "       [ 2.00106356e+00, -9.73269795e-01, -3.31438482e-01],\n",
       "       [-4.42589499e-01, -7.27273896e-02,  1.62581169e+00],\n",
       "       [ 3.41673803e+00,  1.68233914e-02,  1.65761929e-01],\n",
       "       [-1.79099674e+00, -6.06474746e-01, -1.05215215e+00],\n",
       "       [-3.40309581e+00, -1.45540871e+00,  1.83642928e+00],\n",
       "       [ 2.81206121e+00, -6.81182673e-01,  9.61223450e-02],\n",
       "       [ 2.27947348e+00, -5.60955167e-01,  1.49664514e-01],\n",
       "       [-1.24312995e+00,  4.42835689e-01,  8.62990838e-02],\n",
       "       [ 2.57181889e+00,  5.55239756e-02,  8.31654946e-01],\n",
       "       [-1.87619262e+00,  9.85030157e-01, -4.77072960e-01],\n",
       "       [-5.76890593e-01,  5.40551519e-01, -9.11045532e-01],\n",
       "       [ 2.43185697e+00,  1.15156571e+00, -1.40524105e-01],\n",
       "       [-2.58318606e+00, -8.04083633e-01, -6.62370868e-01],\n",
       "       [-1.22897677e+00,  9.38432699e-01, -9.14758548e-01],\n",
       "       [-1.55357698e+00, -1.06764708e+00,  8.20684656e-01],\n",
       "       [ 2.63133776e+00, -6.39666526e-01,  4.45170885e-02],\n",
       "       [ 2.33099279e+00, -1.44564277e+00,  1.73130821e-01],\n",
       "       [ 3.89792901e-03, -1.63167825e+00, -5.55195393e-01],\n",
       "       [ 2.16985899e+00, -1.03334526e+00, -2.40193843e-01],\n",
       "       [-1.50260738e+00, -2.95986525e-01, -1.52666935e+00],\n",
       "       [-1.87107138e+00, -6.52976850e-01, -7.47043349e-01],\n",
       "       [ 3.54105317e+00, -9.37901822e-01, -5.68753648e-01],\n",
       "       [ 3.37031883e-01, -7.21509221e-01,  6.09319266e-02],\n",
       "       [-1.37707636e+00,  2.96509195e-01, -3.99929072e-01],\n",
       "       [-2.27266427e-01, -1.05896143e+00,  7.62419051e-01],\n",
       "       [ 1.40363409e-01,  5.76881617e-01,  7.52916127e-01],\n",
       "       [ 3.71474893e+00,  2.82385889e-01,  1.11090437e-01],\n",
       "       [-1.63022541e-01, -2.34676478e-01,  8.63367995e-01],\n",
       "       [-2.24764761e+00, -1.10052824e+00, -9.36481935e-01],\n",
       "       [-2.27197580e+00,  8.69169132e-01,  4.46785271e-01],\n",
       "       [ 2.91935916e-01,  4.68057133e-01,  1.11982514e+00],\n",
       "       [-1.34653150e+00,  1.34474239e+00,  5.08328853e-02],\n",
       "       [ 1.83962009e-01, -3.05290230e-01,  2.09571913e+00],\n",
       "       [ 3.43827138e+00,  7.07846778e-03,  3.07243637e-01],\n",
       "       [-1.59604601e+00,  8.54709497e-01, -9.62540491e-02],\n",
       "       [-1.52927033e+00, -1.03332644e+00, -6.40616275e-01],\n",
       "       [-7.21777988e-01, -4.35858697e-01, -2.60491835e-01],\n",
       "       [ 2.40506308e+00, -1.21511654e-01,  4.45636751e-01],\n",
       "       [ 3.45475242e+00, -1.92192890e-01,  9.84697956e-01],\n",
       "       [-2.27267028e+00, -1.01089106e+00,  2.47733617e+00],\n",
       "       [ 2.57743870e+00,  3.22163267e-01, -3.15029592e-01],\n",
       "       [-1.85936214e+00,  4.21210856e-02, -1.34385230e+00],\n",
       "       [ 6.51599306e-02, -6.66587826e-01,  1.28852610e+00],\n",
       "       [ 4.47942884e+00,  8.98921789e-02, -7.58892357e-01],\n",
       "       [ 4.60240798e+00, -9.69089850e-02, -1.61564406e-01],\n",
       "       [-1.99973875e+00, -1.41416547e+00,  2.34416359e-01],\n",
       "       [-2.15204717e+00,  1.67678538e+00,  5.75719219e-01],\n",
       "       [-2.66136442e+00,  1.13688176e+00,  2.18674431e+00],\n",
       "       [ 4.90018241e+00,  7.75180025e-01, -4.21460141e-01],\n",
       "       [ 3.64763119e+00, -5.65968529e-01,  7.08400802e-02],\n",
       "       [-1.64586078e+00,  3.18934211e-01, -1.83043911e-01],\n",
       "       [-2.15333497e+00,  1.78995825e+00,  1.21429456e-01],\n",
       "       [-1.87675758e+00, -1.11995125e+00,  2.05921709e-02],\n",
       "       [-1.96401590e+00, -7.21380370e-01, -3.75426085e-01],\n",
       "       [-2.02569902e+00, -1.11951072e+00, -1.12810575e+00],\n",
       "       [ 2.61741752e+00,  1.20029846e+00, -4.97418300e-01],\n",
       "       [ 5.52793247e-01,  1.13404952e+00,  3.35750063e-01],\n",
       "       [ 4.92282352e+00,  8.32485185e-01, -7.31531043e-01],\n",
       "       [ 2.14470675e-01, -1.55681760e+00,  5.49288481e-02],\n",
       "       [ 3.12146160e+00,  1.03826362e+00, -1.09184397e-01],\n",
       "       [-1.06859730e+00, -8.09390047e-02, -2.83392905e-01],\n",
       "       [-2.01173469e+00,  8.52575210e-01,  1.25409740e+00],\n",
       "       [-1.44315267e+00,  6.21772499e-01, -1.81880809e+00],\n",
       "       [-1.16221813e+00,  1.38808067e-01, -1.17189940e+00],\n",
       "       [ 1.70829123e-01,  1.50078991e+00,  4.29221432e-01],\n",
       "       [-8.23515194e-01,  1.10275439e+00, -7.63427426e-01],\n",
       "       [ 5.28386987e-02,  6.91722881e-01,  3.11558799e-01],\n",
       "       [-1.31139016e+00,  1.04484822e+00,  1.25300287e+00],\n",
       "       [-4.83156165e-01, -1.45473669e+00,  2.20942992e-01],\n",
       "       [-1.52874205e+00,  9.61805341e-01, -7.10554743e-01],\n",
       "       [-1.13383519e+00,  1.98231712e+00, -5.01307657e-01],\n",
       "       [-1.55776152e+00, -1.44602556e+00, -2.64762284e-03],\n",
       "       [-2.42696226e+00, -7.73671197e-01, -9.57606091e-01],\n",
       "       [ 1.95569885e+00, -5.06958608e-02, -5.88187541e-01],\n",
       "       [ 2.42404487e+00, -3.21125367e-01,  1.24895547e+00],\n",
       "       [ 1.00646507e-01, -1.25636867e+00, -1.15931852e+00],\n",
       "       [-1.16746144e+00,  1.72327735e+00,  6.37173024e-01],\n",
       "       [-1.70969639e+00,  1.49950681e-01, -6.31615316e-01],\n",
       "       [-1.37115805e+00,  9.07217937e-01, -6.34241766e-01],\n",
       "       [ 2.30002817e+00, -8.01622051e-01, -1.52208664e-01],\n",
       "       [-2.36986735e+00,  6.95632167e-01,  4.00762935e-02],\n",
       "       [ 3.44937144e+00, -3.79988506e-02,  4.20809078e-01],\n",
       "       [-1.09584946e+00,  3.14012644e-01, -8.51816708e-01],\n",
       "       [-3.87616943e-02, -1.21239229e+00, -1.20887071e+00],\n",
       "       [-1.27773614e-01, -5.66175376e-02,  4.21318690e-02],\n",
       "       [-5.67858862e-01, -1.27912900e+00,  8.75897267e-01],\n",
       "       [ 1.01051410e+00, -9.64922482e-01,  4.94060853e-01],\n",
       "       [ 5.17081702e-01,  1.05657376e+00,  7.00318318e-01],\n",
       "       [ 3.33783809e+00, -7.04209910e-01, -2.17272278e-01],\n",
       "       [-1.93130665e+00, -1.31608172e+00, -1.99479992e-01],\n",
       "       [ 3.46346113e+00,  1.21290601e+00, -1.31932806e+00],\n",
       "       [-9.67340571e-01, -2.09736326e-01, -1.05559082e+00],\n",
       "       [-1.79680342e+00,  1.35580560e+00,  3.45930571e-01],\n",
       "       [-2.33755121e+00, -8.93657002e-01, -5.32915510e-01],\n",
       "       [ 2.35467748e+00, -1.38261683e+00, -1.50860744e-01],\n",
       "       [ 5.95169380e-01, -2.26926939e-01,  7.57403149e-02],\n",
       "       [-1.72089102e+00,  2.23971520e-01, -9.69450321e-01],\n",
       "       [-9.08488213e-01,  1.89257076e+00, -3.63276935e-01],\n",
       "       [-2.24348025e+00,  1.57586684e+00,  1.17531670e+00],\n",
       "       [-2.50267586e+00,  1.87373938e+00,  1.26838870e+00],\n",
       "       [ 5.88310672e-01,  1.34742074e+00, -5.35203949e-01],\n",
       "       [-1.62005690e+00, -1.17369649e-01, -8.82279056e-01],\n",
       "       [-1.02415511e+00, -3.90997875e-01, -9.43528745e-02],\n",
       "       [ 2.80799098e-01,  6.43302552e-01,  3.61924919e-01],\n",
       "       [-1.99436600e+00, -6.31710593e-01, -7.49488253e-01],\n",
       "       [-2.34921413e+00,  1.04371301e+00, -2.75674662e-01],\n",
       "       [-8.55537229e-01,  1.89873181e+00, -3.95878214e-01],\n",
       "       [ 2.61049026e+00,  1.16185798e+00, -2.39675680e-01],\n",
       "       [-1.85618966e+00, -3.32581159e-01, -9.86129980e-01],\n",
       "       [ 2.23036784e+00, -1.15835622e+00,  2.03328577e-01],\n",
       "       [-7.48834328e-01,  4.43714411e-01, -4.43870416e-01],\n",
       "       [ 1.64965402e-01, -1.88967761e-01,  1.49455223e+00],\n",
       "       [-1.75446837e+00,  9.24700589e-01,  1.01921260e+00],\n",
       "       [ 2.00634154e+00, -9.41874731e-01, -4.09272571e-01],\n",
       "       [-2.29839575e+00, -8.11102382e-01, -9.13383663e-01],\n",
       "       [-2.47959577e+00, -7.17639197e-01,  1.25178388e-01],\n",
       "       [-9.62674661e-01, -1.05600625e+00,  1.31653008e+00],\n",
       "       [-2.89753678e-01, -2.34279446e-01, -3.40349974e-01],\n",
       "       [ 2.93112539e+00, -5.70171776e-01,  6.54215813e-01],\n",
       "       [-2.07358476e+00,  1.32645341e-01, -2.84107360e-01],\n",
       "       [-1.06909508e+00, -1.28434844e+00, -1.23766467e+00],\n",
       "       [-4.45001289e-01, -1.77684188e-01,  8.14790969e-01],\n",
       "       [-5.66150797e-01, -9.52418827e-01,  6.14712382e-01],\n",
       "       [-1.75045626e-02,  3.46015038e-01,  6.31632053e-01],\n",
       "       [-1.56908024e+00,  3.88137561e-01,  6.69638670e-01],\n",
       "       [ 2.09052997e+00, -9.68244225e-01,  6.59296667e-01],\n",
       "       [-1.85103423e+00,  2.94488371e-01,  1.06675416e-01],\n",
       "       [ 6.84986257e-01, -3.40927556e-01,  4.80254853e-01],\n",
       "       [ 3.37137715e-01,  1.47806264e+00,  2.60094727e-01],\n",
       "       [ 6.68943960e-01,  1.04272426e+00,  6.73593536e-01],\n",
       "       [ 1.43491030e-01, -1.05301896e+00,  4.35706945e-01],\n",
       "       [-2.59447282e+00, -6.81822437e-01,  8.53096358e-02],\n",
       "       [-1.31644442e+00,  1.13272357e+00, -3.32898692e-01],\n",
       "       [-1.18894512e+00, -5.81970565e-01, -4.39523173e-01],\n",
       "       [ 2.76471819e+00, -5.99499343e-01, -2.46151718e-01],\n",
       "       [-1.62676666e+00, -1.29158915e+00, -6.99497128e-01],\n",
       "       [-2.02498273e+00, -1.51217011e-01, -3.23361204e-01],\n",
       "       [ 1.75685089e+00, -1.37066521e+00,  3.46842103e-01],\n",
       "       [-9.14514665e-01, -3.38913238e-01, -4.48574951e-01],\n",
       "       [-2.10631947e+00,  1.69701718e-01, -3.71094306e-01],\n",
       "       [ 2.49916688e+00, -5.74370910e-01, -6.39364354e-02],\n",
       "       [-1.94665252e+00, -9.98867282e-01, -4.17255895e-01],\n",
       "       [ 6.53111526e-02, -2.92389086e-01,  9.31365429e-01],\n",
       "       [ 2.61632994e+00,  4.14006936e-01, -7.07307495e-01],\n",
       "       [ 5.65765182e-01, -5.67370449e-01,  3.66349598e-01],\n",
       "       [-1.10530160e+00,  3.77464709e-01,  1.79650657e-01],\n",
       "       [ 2.78621253e-01,  5.66780179e-01,  7.06112071e-01],\n",
       "       [ 3.44825436e+00,  1.04751280e+00, -5.47887013e-01],\n",
       "       [-1.13339171e+00,  1.37019855e+00, -2.62157169e-01],\n",
       "       [-3.22853638e-01, -1.76397863e+00,  2.39967586e-01],\n",
       "       [-9.30907094e-01,  1.71010923e+00, -7.73661177e-01],\n",
       "       [-2.11262817e+00, -1.22770150e+00, -5.06469134e-01],\n",
       "       [-8.37366179e-01,  1.33723795e+00, -4.53505455e-01],\n",
       "       [-1.70201608e+00,  1.02651677e+00,  5.59721391e-01],\n",
       "       [ 2.75688057e+00, -2.26123854e-01,  5.73558996e-01],\n",
       "       [-3.52859366e-01, -6.78377019e-01,  4.13926055e-01],\n",
       "       [-9.42217210e-01,  5.17125814e-01, -5.51723986e-01],\n",
       "       [ 4.03200953e+00,  1.04677067e+00, -9.45552778e-01],\n",
       "       [-1.28838823e+00,  1.05552121e+00,  1.18928712e-02],\n",
       "       [ 2.84731970e+00,  6.80338134e-01,  3.02131031e-01],\n",
       "       [ 2.58213130e-02, -1.43646701e+00,  2.28544442e+00],\n",
       "       [-1.35973825e+00, -8.78053740e-01, -2.01874596e-01],\n",
       "       [-2.30111603e+00,  4.71444480e-01, -3.13458757e-01],\n",
       "       [ 5.82458514e-01, -3.04245922e-02,  4.75259660e-01],\n",
       "       [ 1.55963391e-01, -6.34595192e-01,  9.98081763e-01],\n",
       "       [-1.64877776e+00,  6.48616154e-01, -4.46416280e-01],\n",
       "       [-1.70872910e+00, -1.09434264e+00,  9.48655599e-01],\n",
       "       [ 3.11850718e+00,  5.40356387e-02,  3.20143430e-01],\n",
       "       [ 3.98222701e+00,  6.89065443e-01,  7.32640756e-01],\n",
       "       [-1.37896431e+00, -1.37703415e+00, -5.69410440e-01],\n",
       "       [ 4.78195569e+00,  8.60649330e-01, -7.53745402e-01],\n",
       "       [ 3.72344523e+00, -1.43152172e-01,  5.96910820e-01],\n",
       "       [-1.38251423e+00, -1.08761179e+00, -5.54844772e-01],\n",
       "       [ 1.40880164e+00, -1.26747201e+00,  2.06598934e-01],\n",
       "       [-1.03304005e+00, -1.02354909e+00, -1.16754388e+00],\n",
       "       [-1.71037234e+00,  3.93704372e-01, -5.13035799e-01],\n",
       "       [ 3.49840997e+00,  1.10533739e+00, -7.22142880e-01],\n",
       "       [-2.47404164e+00, -4.35042074e-01,  1.45813613e-01],\n",
       "       [ 1.38600973e+00, -7.13827486e-01, -8.10763998e-01],\n",
       "       [-5.33763087e-01,  1.06443825e+00, -7.80444766e-01],\n",
       "       [-2.24087623e+00,  1.71655776e+00,  4.96079577e-01],\n",
       "       [ 5.68408813e-01,  1.07189837e+00,  6.30080141e-01],\n",
       "       [-2.11125271e+00,  1.59199956e+00,  9.15932673e-01],\n",
       "       [ 2.33333737e-01, -1.99180825e-01,  1.47668936e+00],\n",
       "       [-2.14448115e+00, -8.68380286e-01, -8.25687069e-01],\n",
       "       [ 1.53916704e-02,  2.14115411e-01, -1.11946437e-01],\n",
       "       [-1.92366615e+00, -1.41497444e+00,  2.00661019e-01],\n",
       "       [ 2.99882889e-01, -5.93283463e-01, -1.74963841e+00],\n",
       "       [ 4.11028294e-01, -3.43080942e-01,  7.00796553e-01]])"
      ]
     },
     "execution_count": 51,
     "metadata": {},
     "output_type": "execute_result"
    }
   ],
   "source": [
    "# Naturally, sklearn has a shortcut for this!\n",
    "\n",
    "pca = PCA(n_components=3)\n",
    "\n",
    "X_train_new = pca.fit_transform(X_tr_sc)\n",
    "X_train_new"
   ]
  },
  {
   "cell_type": "code",
   "execution_count": 52,
   "metadata": {},
   "outputs": [
    {
     "data": {
      "text/plain": [
       "array([4.28796219, 0.89325155, 0.59494253])"
      ]
     },
     "execution_count": 52,
     "metadata": {},
     "output_type": "execute_result"
    }
   ],
   "source": [
    "# Let's check out the explained variance\n",
    "\n",
    "pca.explained_variance_"
   ]
  },
  {
   "cell_type": "code",
   "execution_count": 53,
   "metadata": {},
   "outputs": [
    {
     "data": {
      "text/plain": [
       "array([0.71099544, 0.1481118 , 0.09864859])"
      ]
     },
     "execution_count": 53,
     "metadata": {},
     "output_type": "execute_result"
    }
   ],
   "source": [
    "# The ratio is often more informative\n",
    "\n",
    "pca.explained_variance_ratio_"
   ]
  },
  {
   "cell_type": "code",
   "execution_count": 54,
   "metadata": {
    "scrolled": false
   },
   "outputs": [
    {
     "data": {
      "text/plain": [
       "array([[ 0.45429602,  0.4698276 ,  0.46220986,  0.4401634 , -0.3567266 ,\n",
       "        -0.19555438],\n",
       "       [-0.14296736, -0.1100147 , -0.02283565, -0.21745139, -0.10215066,\n",
       "        -0.95352806],\n",
       "       [ 0.20369518,  0.15327665, -0.12912709,  0.36117845,  0.86003011,\n",
       "        -0.21963397]])"
      ]
     },
     "execution_count": 54,
     "metadata": {},
     "output_type": "execute_result"
    }
   ],
   "source": [
    "# We can also check out the Principal Components themselves\n",
    "\n",
    "pca.components_"
   ]
  },
  {
   "cell_type": "code",
   "execution_count": 55,
   "metadata": {},
   "outputs": [
    {
     "data": {
      "text/plain": [
       "Index([' cylinders', ' cubicinches', ' hp', ' weightlbs', ' time-to-60',\n",
       "       ' year'],\n",
       "      dtype='object')"
      ]
     },
     "execution_count": 55,
     "metadata": {},
     "output_type": "execute_result"
    }
   ],
   "source": [
    "# Recall the columns of X\n",
    "\n",
    "X.columns"
   ]
  },
  {
   "cell_type": "markdown",
   "metadata": {},
   "source": [
    "The results of our PCA are as follows:\n",
    "\n",
    "**PC1** = 0.454 * cylinders + 0.470 * cubicinches + 0.462 * hp + 0.440 * weightlbs - 0.357 * time-to-60 - 0.196 * year\n",
    "\n",
    "**PC2** = -0.143 * cylinders - 0.110 * cubicinches - 0.023 * hp - 0.217 * weightlbs - 0.102 * time-to-60 - 0.954 * year\n",
    "\n",
    "**PC3** = 0.204 * cylinders + 0.153 * cubicinches - 0.129 * hp + 0.361 * weightlbs + 0.860 * time-to-60 - 0.220 * year"
   ]
  },
  {
   "cell_type": "markdown",
   "metadata": {},
   "source": [
    "It turns out that these loadings are encoded in the eigenvectors of $X^TX$. Notice that:\n",
    "\n",
    "- the absolute values of the components of PC1 are the first components of the eigenvectors below, <br/>\n",
    "- the absolute values of the components of PC2 are the second components of the eigenvectors below, <br/>\n",
    "- etc. <br/>\n",
    "\n",
    "We'll have more to say about this when we examine the singular value decomposition of matrices in Mod 4."
   ]
  },
  {
   "cell_type": "code",
   "execution_count": 51,
   "metadata": {
    "scrolled": true
   },
   "outputs": [
    {
     "data": {
      "text/plain": [
       "(array([831.86466442, 173.29080134, 115.4188505 ,  27.77495571,\n",
       "          7.55113153,  14.09959649]),\n",
       " array([[ 0.45429602,  0.14296736,  0.20369518,  0.6796064 ,  0.50163309,\n",
       "          0.13484479],\n",
       "        [ 0.4698276 ,  0.1100147 ,  0.15327665,  0.16591895, -0.8098604 ,\n",
       "          0.2454834 ],\n",
       "        [ 0.46220986,  0.02283565, -0.12912709, -0.60396174,  0.29399428,\n",
       "          0.56388328],\n",
       "        [ 0.4401634 ,  0.21745139,  0.36117845, -0.35751571,  0.06646611,\n",
       "         -0.70447567],\n",
       "        [-0.3567266 ,  0.10215066,  0.86003011, -0.13380606,  0.03965391,\n",
       "          0.32122126],\n",
       "        [-0.19555438,  0.95352806, -0.21963397, -0.01071026, -0.00821998,\n",
       "          0.06419782]]))"
      ]
     },
     "execution_count": 51,
     "metadata": {},
     "output_type": "execute_result"
    }
   ],
   "source": [
    "np.linalg.eig(X_train_scaled.T.dot(X_train_scaled))"
   ]
  },
  {
   "cell_type": "markdown",
   "metadata": {},
   "source": [
    "## Normality"
   ]
  },
  {
   "cell_type": "code",
   "execution_count": 57,
   "metadata": {},
   "outputs": [
    {
     "data": {
      "text/plain": [
       "1.0"
      ]
     },
     "execution_count": 57,
     "metadata": {},
     "output_type": "execute_result"
    }
   ],
   "source": [
    "# These principal components should be normalized.\n",
    "# If they are, then the sum of the squares of the\n",
    "# loadings should be 1. Let's check!\n",
    "\n",
    "mag0 = 0\n",
    "for i in range(6):\n",
    "    mag0 += pca.components_[0][i] ** 2\n",
    "\n",
    "mag0"
   ]
  },
  {
   "cell_type": "code",
   "execution_count": 61,
   "metadata": {},
   "outputs": [
    {
     "data": {
      "text/plain": [
       "1.0"
      ]
     },
     "execution_count": 61,
     "metadata": {},
     "output_type": "execute_result"
    }
   ],
   "source": [
    "mag1 = 0\n",
    "for i in range(6):\n",
    "    mag1 += pca.components_[0][i] ** 2\n",
    "\n",
    "mag1"
   ]
  },
  {
   "cell_type": "code",
   "execution_count": 62,
   "metadata": {},
   "outputs": [
    {
     "data": {
      "text/plain": [
       "1.0"
      ]
     },
     "execution_count": 62,
     "metadata": {},
     "output_type": "execute_result"
    }
   ],
   "source": [
    "mag2 = 0\n",
    "for i in range(6):\n",
    "    mag2 += pca.components_[0][i] ** 2\n",
    "\n",
    "mag2"
   ]
  },
  {
   "cell_type": "markdown",
   "metadata": {},
   "source": [
    "## Orthogonality"
   ]
  },
  {
   "cell_type": "code",
   "execution_count": 63,
   "metadata": {},
   "outputs": [
    {
     "data": {
      "text/plain": [
       "5.551115123125783e-17"
      ]
     },
     "execution_count": 63,
     "metadata": {},
     "output_type": "execute_result"
    }
   ],
   "source": [
    "# These principal components should also be\n",
    "# mutually orthogonal. If they are, then the\n",
    "# dot product of any two of them should be 0.\n",
    "# Let's check!\n",
    "\n",
    "dot_prod01 = 0\n",
    "for i in range(6):\n",
    "    dot_prod01 += pca.components_[0][i] * pca.components_[1][i]\n",
    "    \n",
    "dot_prod01"
   ]
  },
  {
   "cell_type": "code",
   "execution_count": 64,
   "metadata": {},
   "outputs": [
    {
     "data": {
      "text/plain": [
       "5.551115123125783e-17"
      ]
     },
     "execution_count": 64,
     "metadata": {},
     "output_type": "execute_result"
    }
   ],
   "source": [
    "dot_prod02 = 0\n",
    "for i in range(6):\n",
    "    dot_prod02 += pca.components_[0][i] * pca.components_[1][i]\n",
    "    \n",
    "dot_prod02"
   ]
  },
  {
   "cell_type": "code",
   "execution_count": 65,
   "metadata": {},
   "outputs": [
    {
     "data": {
      "text/plain": [
       "5.551115123125783e-17"
      ]
     },
     "execution_count": 65,
     "metadata": {},
     "output_type": "execute_result"
    }
   ],
   "source": [
    "dot_prod03 = 0\n",
    "for i in range(6):\n",
    "    dot_prod03 += pca.components_[0][i] * pca.components_[1][i]\n",
    "    \n",
    "dot_prod03"
   ]
  },
  {
   "cell_type": "markdown",
   "metadata": {},
   "source": [
    "## Visualizations"
   ]
  },
  {
   "cell_type": "code",
   "execution_count": 60,
   "metadata": {},
   "outputs": [
    {
     "data": {
      "image/png": "[encoded data removed]",
      "text/plain": [
       "<Figure size 432x288 with 1 Axes>"
      ]
     },
     "metadata": {
      "needs_background": "light"
     },
     "output_type": "display_data"
    }
   ],
   "source": [
    "from matplotlib import pyplot as plt\n",
    "%matplotlib inline\n",
    "\n",
    "fig, ax = plt.subplots()\n",
    "ax.plot(X_train_new[:, 0], y_train, 'r.');"
   ]
  },
  {
   "cell_type": "code",
   "execution_count": 61,
   "metadata": {},
   "outputs": [
    {
     "data": {
      "image/png": "[encoded data removed]",
      "text/plain": [
       "<Figure size 432x288 with 1 Axes>"
      ]
     },
     "metadata": {
      "needs_background": "light"
     },
     "output_type": "display_data"
    }
   ],
   "source": [
    "fig, ax = plt.subplots()\n",
    "ax.plot(X_train_new[:, 1], y_train, 'g.');"
   ]
  },
  {
   "cell_type": "code",
   "execution_count": 62,
   "metadata": {},
   "outputs": [
    {
     "data": {
      "image/png": "[encoded data removed]",
      "text/plain": [
       "<Figure size 432x288 with 1 Axes>"
      ]
     },
     "metadata": {
      "needs_background": "light"
     },
     "output_type": "display_data"
    }
   ],
   "source": [
    "fig, ax = plt.subplots()\n",
    "ax.plot(X_train_new[:, 2], y_train, 'k.');"
   ]
  },
  {
   "cell_type": "markdown",
   "metadata": {},
   "source": [
    "Question: Is the first principal component the same line we would get if we constructed an ordinary least-squares regression line?\n",
    "\n",
    "The answer is NO! Check out this post for an illuminating discussion: https://shankarmsy.github.io/posts/pca-vs-lr.html"
   ]
  },
  {
   "cell_type": "markdown",
   "metadata": {},
   "source": [
    "## Modeling with New Dimensions\n",
    "\n",
    "Now that we have optimized our features, we can build a new model with them!"
   ]
  },
  {
   "cell_type": "code",
   "execution_count": 66,
   "metadata": {},
   "outputs": [
    {
     "data": {
      "text/plain": [
       "0.7892602732109556"
      ]
     },
     "execution_count": 66,
     "metadata": {},
     "output_type": "execute_result"
    }
   ],
   "source": [
    "lr_pca = LinearRegression()\n",
    "lr_pca.fit(X_train_new, y_train)\n",
    "lr_pca.score(X_train_new, y_train)"
   ]
  },
  {
   "cell_type": "code",
   "execution_count": null,
   "metadata": {},
   "outputs": [],
   "source": []
  },
  {
   "cell_type": "code",
   "execution_count": 68,
   "metadata": {},
   "outputs": [],
   "source": [
    "X_test_new = pca.transform(X_te_sc)"
   ]
  },
  {
   "cell_type": "code",
   "execution_count": 69,
   "metadata": {},
   "outputs": [
    {
     "data": {
      "text/plain": [
       "0.7096073157034567"
      ]
     },
     "execution_count": 69,
     "metadata": {},
     "output_type": "execute_result"
    }
   ],
   "source": [
    "lr_pca.score(X_test_new, y_test)"
   ]
  },
  {
   "cell_type": "code",
   "execution_count": 70,
   "metadata": {},
   "outputs": [
    {
     "data": {
      "text/plain": [
       "array([-3.0041121 , -1.14513528, -2.4861255 ])"
      ]
     },
     "execution_count": 70,
     "metadata": {},
     "output_type": "execute_result"
    }
   ],
   "source": [
    "lr_pca.coef_"
   ]
  },
  {
   "cell_type": "markdown",
   "metadata": {},
   "source": [
    "# Thus, our best-fit hyperplane is given by:\n",
    "\n",
    "$-3.00\\times PC1 - 1.15\\times PC2 -2.49\\times PC3$\n",
    "\n",
    "Of course, since the principal components are just linear combinations of our original predictors, we could re-express this hyperplane in terms of those original predictors!\n",
    "\n",
    "And if the PCA was worth anything, we should expect the new linear model to be *different from* the first!\n",
    "\n",
    "Recall that we had:\n",
    "\n",
    "**PC1** = 0.454 * cylinders + 0.470 * cubicinches + 0.462 * hp + 0.440 * weightlbs - 0.357 * time-to-60 - 0.196 * year\n",
    "\n",
    "**PC2** = -0.143 * cylinders - 0.110 * cubicinches - 0.023 * hp - 0.217 * weightlbs - 0.102 * time-to-60 - 0.954 * year\n",
    "\n",
    "**PC3** = 0.204 * cylinders + 0.153 * cubicinches - 0.129 * hp + 0.361 * weightlbs + 0.860 * time-to-60 - 0.220 * year\n",
    "\n",
    "Therefore, our new PCA-made hyperplane can be expressed as:\n",
    "\n",
    "$-3.00\\times(0.454\\times cyl + 0.470\\times in^3 + 0.462\\times hp + 0.440\\times lbs. - 0.357\\times time_{60} - 0.196\\times yr)$ <br/> $- 1.15\\times(-0.143\\times cyl - 0.110\\times in^3 - 0.023\\times hp - 0.217\\times lbs. - 0.102\\times time_{60} - 0.954\\times yr)$ <br/> $- 2.49\\times(0.204\\times cyl + 0.153\\times in^3 - 0.129\\times hp + 0.361\\times lbs. + 0.860\\times time_{60} - 0.220\\times yr)$ <br/><br/> $= -1.706\\times cyl - 1.664\\times in^3 -1.038\\times hp - 1.969\\times lbs. -3.095\\times time_{60} + 2.233\\times yr$"
   ]
  },
  {
   "cell_type": "markdown",
   "metadata": {},
   "source": [
    "Our first linear regression model had:\n",
    "\n",
    "$-1.404\\times cyl + 0.671\\times in^3 - 0.478\\times hp - 4.655\\times lbs. -  0.177\\times time_{60} + 2.426\\times yr$,\n",
    "\n",
    "which is clearly a different hyperplane."
   ]
  },
  {
   "cell_type": "code",
   "execution_count": null,
   "metadata": {},
   "outputs": [],
   "source": []
  }
 ],
 "metadata": {
  "kernelspec": {
   "display_name": "Python 3",
   "language": "python",
   "name": "python3"
  },
  "language_info": {
   "codemirror_mode": {
    "name": "ipython",
    "version": 3
   },
   "file_extension": ".py",
   "mimetype": "text/x-python",
   "name": "python",
   "nbconvert_exporter": "python",
   "pygments_lexer": "ipython3",
   "version": "3.7.0"
  }
 },
 "nbformat": 4,
 "nbformat_minor": 2
}
